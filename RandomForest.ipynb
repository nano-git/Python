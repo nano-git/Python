{
 "cells": [
  {
   "cell_type": "code",
   "execution_count": 10,
   "metadata": {},
   "outputs": [
    {
     "data": {
      "text/html": [
       "<div>\n",
       "<style scoped>\n",
       "    .dataframe tbody tr th:only-of-type {\n",
       "        vertical-align: middle;\n",
       "    }\n",
       "\n",
       "    .dataframe tbody tr th {\n",
       "        vertical-align: top;\n",
       "    }\n",
       "\n",
       "    .dataframe thead th {\n",
       "        text-align: right;\n",
       "    }\n",
       "</style>\n",
       "<table border=\"1\" class=\"dataframe\">\n",
       "  <thead>\n",
       "    <tr style=\"text-align: right;\">\n",
       "      <th></th>\n",
       "      <th>english</th>\n",
       "      <th>math</th>\n",
       "    </tr>\n",
       "    <tr>\n",
       "      <th>index</th>\n",
       "      <th></th>\n",
       "      <th></th>\n",
       "    </tr>\n",
       "  </thead>\n",
       "  <tbody>\n",
       "    <tr>\n",
       "      <td>1</td>\n",
       "      <td>90</td>\n",
       "      <td>10</td>\n",
       "    </tr>\n",
       "    <tr>\n",
       "      <td>2</td>\n",
       "      <td>80</td>\n",
       "      <td>20</td>\n",
       "    </tr>\n",
       "    <tr>\n",
       "      <td>3</td>\n",
       "      <td>70</td>\n",
       "      <td>30</td>\n",
       "    </tr>\n",
       "    <tr>\n",
       "      <td>4</td>\n",
       "      <td>60</td>\n",
       "      <td>40</td>\n",
       "    </tr>\n",
       "    <tr>\n",
       "      <td>5</td>\n",
       "      <td>50</td>\n",
       "      <td>50</td>\n",
       "    </tr>\n",
       "    <tr>\n",
       "      <td>6</td>\n",
       "      <td>40</td>\n",
       "      <td>60</td>\n",
       "    </tr>\n",
       "    <tr>\n",
       "      <td>7</td>\n",
       "      <td>30</td>\n",
       "      <td>70</td>\n",
       "    </tr>\n",
       "    <tr>\n",
       "      <td>8</td>\n",
       "      <td>20</td>\n",
       "      <td>80</td>\n",
       "    </tr>\n",
       "    <tr>\n",
       "      <td>9</td>\n",
       "      <td>10</td>\n",
       "      <td>90</td>\n",
       "    </tr>\n",
       "    <tr>\n",
       "      <td>10</td>\n",
       "      <td>0</td>\n",
       "      <td>100</td>\n",
       "    </tr>\n",
       "  </tbody>\n",
       "</table>\n",
       "</div>"
      ],
      "text/plain": [
       "       english  math\n",
       "index               \n",
       "1           90    10\n",
       "2           80    20\n",
       "3           70    30\n",
       "4           60    40\n",
       "5           50    50\n",
       "6           40    60\n",
       "7           30    70\n",
       "8           20    80\n",
       "9           10    90\n",
       "10           0   100"
      ]
     },
     "execution_count": 10,
     "metadata": {},
     "output_type": "execute_result"
    }
   ],
   "source": [
    "# データ読み込み\n",
    "# pandas…データの統計量を表示、グラフ化など、データ分析（データサイエンス）のライブラリ\n",
    "# csvファイルのデータを取得し、変数dfに格納\n",
    "# name列をインデックスとして使用\n",
    "import pandas as pd\n",
    "df = pd.read_csv(\"RandomForest.csv\",index_col=\"index\")\n",
    "# dfの内容を表示\n",
    "df"
   ]
  },
  {
   "cell_type": "code",
   "execution_count": 11,
   "metadata": {},
   "outputs": [
    {
     "data": {
      "text/plain": [
       "<seaborn.axisgrid.JointGrid at 0x1d9a106d3c8>"
      ]
     },
     "execution_count": 11,
     "metadata": {},
     "output_type": "execute_result"
    },
    {
     "data": {
      "image/png": "[encoded data removed]",
      "text/plain": [
       "<Figure size 432x432 with 3 Axes>"
      ]
     },
     "metadata": {
      "needs_background": "light"
     },
     "output_type": "display_data"
    }
   ],
   "source": [
    "# データをグラフなどで可視化する\n",
    "# matplotlibのラッパーseabornライブラリを利用する\n",
    "# 結果はインライン出力する\n",
    "import seaborn as sns\n",
    "%matplotlib inline\n",
    "# 2変数の散布図に線形近似を載せて描画\n",
    "# この線形近似線が学習結果で、英語の値を代入したものが国語の欠損値代入か？\n",
    "sns.jointplot(\n",
    "        x='english'\n",
    "        ,y='math'\n",
    "        ,data=df\n",
    "        ,kind=\"reg\"\n",
    "        ,xlim=[0, 100]\n",
    "        ,ylim=[0, 100]\n",
    ")"
   ]
  },
  {
   "cell_type": "code",
   "execution_count": 13,
   "metadata": {},
   "outputs": [
    {
     "data": {
      "text/plain": [
       "<matplotlib.axes._subplots.AxesSubplot at 0x1d9a11de908>"
      ]
     },
     "execution_count": 13,
     "metadata": {},
     "output_type": "execute_result"
    },
    {
     "data": {
      "image/png": "[encoded data removed]",
      "text/plain": [
       "<Figure size 360x216 with 2 Axes>"
      ]
     },
     "metadata": {
      "needs_background": "light"
     },
     "output_type": "display_data"
    }
   ],
   "source": [
    "# ヒートマップで相関係数を可視化\n",
    "import matplotlib.pyplot as plt\n",
    "# NA / null値を除外して、列のペアワイズ相関を計算\n",
    "df_corr = df.corr()\n",
    "fig,ax = plt.subplots(figsize=(5,3))\n",
    "\n",
    "# 相関係数をヒートマップで表示\n",
    "sns.heatmap(\n",
    "            df_corr\n",
    "            ,square=True\n",
    "            ,vmax=1\n",
    "            ,vmin=-1\n",
    "            ,center=0\n",
    "           )"
   ]
  },
  {
   "cell_type": "code",
   "execution_count": 14,
   "metadata": {},
   "outputs": [
    {
     "name": "stdout",
     "output_type": "stream",
     "text": [
      "X:\n",
      "[[90]\n",
      " [80]\n",
      " [70]\n",
      " [60]\n",
      " [50]\n",
      " [40]\n",
      " [30]\n",
      " [20]\n",
      " [10]\n",
      " [ 0]]\n",
      "Y:\n",
      "[ 10  20  30  40  50  60  70  80  90 100]\n",
      "X_train:\n",
      "[[ 0]\n",
      " [60]\n",
      " [50]\n",
      " [10]\n",
      " [80]\n",
      " [30]\n",
      " [70]]\n",
      "X_test:\n",
      "[[40]\n",
      " [20]\n",
      " [90]]\n",
      "Y_train:\n",
      "[100  40  50  90  20  70  30]\n",
      "Y_test:\n",
      "[60 80 10]\n"
     ]
    },
    {
     "data": {
      "text/plain": [
       "RandomForestRegressor(bootstrap=True, criterion='mse', max_depth=None,\n",
       "                      max_features='auto', max_leaf_nodes=None,\n",
       "                      min_impurity_decrease=0.0, min_impurity_split=None,\n",
       "                      min_samples_leaf=1, min_samples_split=2,\n",
       "                      min_weight_fraction_leaf=0.0, n_estimators=10,\n",
       "                      n_jobs=None, oob_score=False, random_state=None,\n",
       "                      verbose=0, warm_start=False)"
      ]
     },
     "execution_count": 14,
     "metadata": {},
     "output_type": "execute_result"
    }
   ],
   "source": [
    "# 説明変数、目的変数\n",
    "X = df.iloc[:, :-1].values\n",
    "Y = df.loc[:, 'math'].values\n",
    "print(\"X:\")\n",
    "print(X)\n",
    "print(\"Y:\")\n",
    "print(Y)\n",
    "# 学習用、検証用データに分割\n",
    "# test_size:0.0～1.0の割合か、個数を指定、デフォルト0.25\n",
    "# データの30%をテスト用、70%を学習用とする\n",
    "# train_size:デフォルトtest_size以外の残り\n",
    "# random_state:乱数シードの指定\n",
    "from sklearn.model_selection import train_test_split\n",
    "(X_train, X_test, Y_train, Y_test) = train_test_split(\n",
    "    X\n",
    "    , Y\n",
    "    , test_size = 0.3\n",
    "    , random_state = 666\n",
    ")\n",
    "print(\"X_train:\")\n",
    "print(X_train)\n",
    "print(\"X_test:\")\n",
    "print(X_test)\n",
    "print(\"Y_train:\")\n",
    "print(Y_train)\n",
    "print(\"Y_test:\")\n",
    "print(Y_test)\n",
    "# 必要なライブラリのインポート（回帰分析用ランダムフォレスト）\n",
    "from sklearn.ensemble import RandomForestRegressor\n",
    "# モデル構築、パラメータはデフォルト\n",
    "forest = RandomForestRegressor(n_estimators=10)\n",
    "forest.fit(X_train, Y_train)"
   ]
  },
  {
   "cell_type": "code",
   "execution_count": 15,
   "metadata": {},
   "outputs": [
    {
     "name": "stdout",
     "output_type": "stream",
     "text": [
      "MSE train : 11.143, test : 140.000\n",
      "R^2 train : 0.986, test : 0.838\n",
      "MSE train : 11.143, test : 140.000\n",
      "R^2 train : 0.986, test : 0.838\n"
     ]
    }
   ],
   "source": [
    "# 予測値を計算\n",
    "Y_train_pred = forest.predict(X_train)\n",
    "Y_test_pred = forest.predict(X_test)\n",
    "# MSE(平均二乗誤差)の計算\n",
    "# 0に近いほど良い（誤差がない）\n",
    "from sklearn.metrics import mean_squared_error\n",
    "print('MSE train : %.3f, test : %.3f' % (mean_squared_error(Y_train, Y_train_pred), mean_squared_error(Y_test, Y_test_pred)) )\n",
    "# R^2（決定係数）の計算\n",
    "# 通常、0から1の値を取り、大きいほどモデルが適切（性能が良い、1は完全一致）\n",
    "from sklearn.metrics import r2_score\n",
    "print('R^2 train : %.3f, test : %.3f' % (r2_score(Y_train, Y_train_pred), r2_score(Y_test, Y_test_pred)) )\n",
    "\n",
    "# 出力\n",
    "print('MSE train : %.3f, test : %.3f' % (mean_squared_error(Y_train, Y_train_pred), mean_squared_error(Y_test, Y_test_pred)) )\n",
    "print('R^2 train : %.3f, test : %.3f' % (r2_score(Y_train, Y_train_pred), r2_score(Y_test, Y_test_pred)) )\n"
   ]
  },
  {
   "cell_type": "code",
   "execution_count": 17,
   "metadata": {},
   "outputs": [
    {
     "data": {
      "image/png": "[encoded data removed]",
      "text/plain": [
       "<Figure size 720x504 with 1 Axes>"
      ]
     },
     "metadata": {
      "needs_background": "light"
     },
     "output_type": "display_data"
    }
   ],
   "source": [
    "# matplotlibを呼び出し、あとおまじない\n",
    "import matplotlib.pyplot as plt\n",
    "%matplotlib inline\n",
    "plt.figure(figsize = (10, 7))\n",
    "plt.scatter(Y_train_pred\n",
    "            , Y_train_pred - Y_train\n",
    "            , c = 'black'\n",
    "            , marker = 'o'\n",
    "            , s = 35\n",
    "            , alpha = 0.5\n",
    "            , label = 'Training data'\n",
    "           )\n",
    "plt.scatter(Y_test_pred\n",
    "            , Y_test_pred - Y_test\n",
    "            , c = 'lightgreen'\n",
    "            , marker = 's'\n",
    "            , s = 35\n",
    "            , alpha = 0.7\n",
    "            , label = 'Test data'\n",
    "           )\n",
    "plt.xlabel('Predicted values')\n",
    "plt.ylabel('Residuals')\n",
    "plt.legend(loc = 'upper left')\n",
    "plt.hlines(y = 0\n",
    "           , xmin = 0\n",
    "           , xmax = 100\n",
    "           , lw = 2\n",
    "           , color = 'red')\n",
    "plt.xlim([0, 100])\n",
    "plt.show()"
   ]
  }
 ],
 "metadata": {
  "kernelspec": {
   "display_name": "Python 3",
   "language": "python",
   "name": "python3"
  },
  "language_info": {
   "codemirror_mode": {
    "name": "ipython",
    "version": 3
   },
   "file_extension": ".py",
   "mimetype": "text/x-python",
   "name": "python",
   "nbconvert_exporter": "python",
   "pygments_lexer": "ipython3",
   "version": "3.7.4"
  }
 },
 "nbformat": 4,
 "nbformat_minor": 2
}
