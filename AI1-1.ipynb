{
 "cells": [
  {
   "cell_type": "code",
   "execution_count": 1,
   "metadata": {},
   "outputs": [
    {
     "data": {
      "text/html": [
       "<div>\n",
       "<style scoped>\n",
       "    .dataframe tbody tr th:only-of-type {\n",
       "        vertical-align: middle;\n",
       "    }\n",
       "\n",
       "    .dataframe tbody tr th {\n",
       "        vertical-align: top;\n",
       "    }\n",
       "\n",
       "    .dataframe thead th {\n",
       "        text-align: right;\n",
       "    }\n",
       "</style>\n",
       "<table border=\"1\" class=\"dataframe\">\n",
       "  <thead>\n",
       "    <tr style=\"text-align: right;\">\n",
       "      <th></th>\n",
       "      <th>height</th>\n",
       "      <th>weight</th>\n",
       "    </tr>\n",
       "    <tr>\n",
       "      <th>name</th>\n",
       "      <th></th>\n",
       "      <th></th>\n",
       "    </tr>\n",
       "  </thead>\n",
       "  <tbody>\n",
       "    <tr>\n",
       "      <td>A</td>\n",
       "      <td>160cm</td>\n",
       "      <td>49kg</td>\n",
       "    </tr>\n",
       "    <tr>\n",
       "      <td>B</td>\n",
       "      <td>170cm</td>\n",
       "      <td>37kg</td>\n",
       "    </tr>\n",
       "    <tr>\n",
       "      <td>C</td>\n",
       "      <td>1.81m</td>\n",
       "      <td>80</td>\n",
       "    </tr>\n",
       "    <tr>\n",
       "      <td>D</td>\n",
       "      <td>NaN</td>\n",
       "      <td>50kg</td>\n",
       "    </tr>\n",
       "    <tr>\n",
       "      <td>E</td>\n",
       "      <td>1.90m</td>\n",
       "      <td>80</td>\n",
       "    </tr>\n",
       "    <tr>\n",
       "      <td>F</td>\n",
       "      <td>170cm</td>\n",
       "      <td>NaN</td>\n",
       "    </tr>\n",
       "    <tr>\n",
       "      <td>G</td>\n",
       "      <td>150cm</td>\n",
       "      <td>40</td>\n",
       "    </tr>\n",
       "  </tbody>\n",
       "</table>\n",
       "</div>"
      ],
      "text/plain": [
       "     height weight\n",
       "name              \n",
       "A     160cm   49kg\n",
       "B     170cm   37kg\n",
       "C     1.81m     80\n",
       "D       NaN   50kg\n",
       "E     1.90m     80\n",
       "F     170cm    NaN\n",
       "G     150cm     40"
      ]
     },
     "execution_count": 1,
     "metadata": {},
     "output_type": "execute_result"
    }
   ],
   "source": [
    "# データ読み込み\n",
    "# pandas…データの統計量を表示、グラフ化など、データ分析（データサイエンス）のライブラリ\n",
    "# csvファイルのデータを取得し、変数dfに格納\n",
    "# name列をインデックスとして使用\n",
    "import pandas as pd\n",
    "df = pd.read_csv(\"day8-sample.csv\",index_col=\"name\")\n",
    "# dfの内容を表示\n",
    "df\n"
   ]
  },
  {
   "cell_type": "code",
   "execution_count": 2,
   "metadata": {},
   "outputs": [
    {
     "name": "stdout",
     "output_type": "stream",
     "text": [
      "      height weight\n",
      "name               \n",
      "A      160.0   49kg\n",
      "B      170.0   37kg\n",
      "C      181.0     80\n",
      "D        NaN   50kg\n",
      "E      190.0     80\n",
      "F      170.0    NaN\n",
      "G      150.0     40\n",
      "      height  weight\n",
      "name                \n",
      "A      160.0    49.0\n",
      "B      170.0    37.0\n",
      "C      181.0    80.0\n",
      "D        NaN    50.0\n",
      "E      190.0    80.0\n",
      "F      170.0     NaN\n",
      "G      150.0    40.0\n"
     ]
    }
   ],
   "source": [
    "# height,weightのデータの明らかな入力ミスを整形する関数を定義\n",
    "def height_to_num(height):\n",
    "    if type(height)==float:\n",
    "        return height\n",
    "    if \"cm\" in height:\n",
    "        height = float(height[:-2])\n",
    "    if (type(height)!=float) and (\"m\" in height):\n",
    "        height = float(height[:-1])\n",
    "        height *= 100\n",
    "    return height\n",
    "\n",
    "def weight_to_num(weight):\n",
    "    if type(weight)==float:\n",
    "        return weight\n",
    "    if (type(weight)!=float)and (\"kg\" in weight):\n",
    "        weight = weight[:-2]\n",
    "    return float(weight)\n",
    "\n",
    "# pandasではdf[\"height\"]のような形でデータをカラムごとに\n",
    "# 保存することが一般的\n",
    "# apply関数は各カラムに関して、入力した関数を実行してくれる\n",
    "\n",
    "df[\"height\"] = df.height.apply(height_to_num)\n",
    "print(df)\n",
    "df[\"weight\"] = df.weight.apply(weight_to_num)\n",
    "print(df)"
   ]
  },
  {
   "cell_type": "code",
   "execution_count": null,
   "metadata": {},
   "outputs": [],
   "source": []
  }
 ],
 "metadata": {
  "kernelspec": {
   "display_name": "Python 3",
   "language": "python",
   "name": "python3"
  },
  "language_info": {
   "codemirror_mode": {
    "name": "ipython",
    "version": 3
   },
   "file_extension": ".py",
   "mimetype": "text/x-python",
   "name": "python",
   "nbconvert_exporter": "python",
   "pygments_lexer": "ipython3",
   "version": "3.7.4"
  }
 },
 "nbformat": 4,
 "nbformat_minor": 2
}
